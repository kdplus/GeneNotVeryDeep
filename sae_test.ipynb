{
 "cells": [
  {
   "cell_type": "code",
   "execution_count": 18,
   "metadata": {},
   "outputs": [
    {
     "ename": "SyntaxError",
     "evalue": "invalid syntax (<ipython-input-18-14a0e852d288>, line 1)",
     "output_type": "error",
     "traceback": [
      "\u001b[0;36m  File \u001b[0;32m\"<ipython-input-18-14a0e852d288>\"\u001b[0;36m, line \u001b[0;32m1\u001b[0m\n\u001b[0;31m    import\u001b[0m\n\u001b[0m           ^\u001b[0m\n\u001b[0;31mSyntaxError\u001b[0m\u001b[0;31m:\u001b[0m invalid syntax\n"
     ]
    }
   ],
   "source": [
    "import \n",
    "\n",
    "\n",
    "import tensorflow as tf  \n",
    "import numpy as np  \n",
    "import matplotlib.pyplot as plt  \n",
    "%matplotlib inline\n",
    "# 导入MNIST数据  \n",
    "from tensorflow.examples.tutorials.mnist import input_data  \n",
    "mnist = input_data.read_data_sets(\"MNIST_data/\", one_hot=False)  \n",
    "  \n",
    "learning_rate = 0.01  \n",
    "training_epochs = 10  \n",
    "batch_size = 256  \n",
    "display_step = 1  \n",
    "examples_to_show = 10  \n",
    "n_input = 784  \n",
    "  \n",
    "# tf Graph input (only pictures)  \n",
    "X = tf.placeholder(\"float\", [None, n_input])  \n",
    "  \n",
    "# 用字典的方式存储各隐藏层的参数  \n",
    "n_hidden_1 = 256 # 第一编码层神经元个数  \n",
    "n_hidden_2 = 128 # 第二编码层神经元个数  \n",
    "# 权重和偏置的变化在编码层和解码层顺序是相逆的  \n",
    "# 权重参数矩阵维度是每层的 输入*输出，偏置参数维度取决于输出层的单元数  \n",
    "weights = {  \n",
    "    'encoder_h1': tf.Variable(tf.random_normal([n_input, n_hidden_1])),  \n",
    "    'encoder_h2': tf.Variable(tf.random_normal([n_hidden_1, n_hidden_2])),  \n",
    "    'decoder_h1': tf.Variable(tf.random_normal([n_hidden_2, n_hidden_1])),  \n",
    "    'decoder_h2': tf.Variable(tf.random_normal([n_hidden_1, n_input])),  \n",
    "}  \n",
    "biases = {  \n",
    "    'encoder_b1': tf.Variable(tf.random_normal([n_hidden_1])),  \n",
    "    'encoder_b2': tf.Variable(tf.random_normal([n_hidden_2])),  \n",
    "    'decoder_b1': tf.Variable(tf.random_normal([n_hidden_1])),  \n",
    "    'decoder_b2': tf.Variable(tf.random_normal([n_input])),  \n",
    "}  \n",
    "  \n",
    "# 每一层结构都是 xW + b  \n",
    "# 构建编码器  \n",
    "def encoder(x):  \n",
    "    layer_1 = tf.nn.sigmoid(tf.add(tf.matmul(x, weights['encoder_h1']),  \n",
    "                                   biases['encoder_b1']))  \n",
    "    layer_2 = tf.nn.sigmoid(tf.add(tf.matmul(layer_1, weights['encoder_h2']),  \n",
    "                                   biases['encoder_b2']))  \n",
    "    return layer_2  \n",
    "  \n",
    "  \n",
    "# 构建解码器  \n",
    "def decoder(x):  \n",
    "    layer_1 = tf.nn.sigmoid(tf.add(tf.matmul(x, weights['decoder_h1']),  \n",
    "                                   biases['decoder_b1']))  \n",
    "    layer_2 = tf.nn.sigmoid(tf.add(tf.matmul(layer_1, weights['decoder_h2']),  \n",
    "                                   biases['decoder_b2']))  \n",
    "    return layer_2  \n",
    "  \n",
    "# 构建模型  \n",
    "encoder_op = encoder(X)  \n",
    "decoder_op = decoder(encoder_op)  \n",
    "  \n",
    "# 预测  \n",
    "y_pred = decoder_op  \n",
    "y_true = X  \n",
    "  \n",
    "# 定义代价函数和优化器  \n",
    "cost = tf.reduce_mean(tf.pow(y_true - y_pred, 2)) #最小二乘法  \n",
    "optimizer = tf.train.AdamOptimizer(learning_rate).minimize(cost)  \n",
    "  \n",
    "sess = tf.Session()\n",
    "# tf.initialize_all_variables() no long valid from  \n",
    "# 2017-03-02 if using tensorflow >= 0.12  \n",
    "if int((tf.__version__).split('.')[1]) < 12 and int((tf.__version__).split('.')[0]) < 1:  \n",
    "    init = tf.initialize_all_variables()  \n",
    "else:  \n",
    "    init = tf.global_variables_initializer()  \n",
    "sess.run(init)  "
   ]
  },
  {
   "cell_type": "code",
   "execution_count": 15,
   "metadata": {},
   "outputs": [
    {
     "name": "stdout",
     "output_type": "stream",
     "text": [
      "('Epoch:', '0001', 'cost=', '0.060754031')\n",
      "('Epoch:', '0002', 'cost=', '0.060487874')\n",
      "('Epoch:', '0003', 'cost=', '0.061819520')\n",
      "('Epoch:', '0004', 'cost=', '0.058976680')\n",
      "('Epoch:', '0005', 'cost=', '0.060376581')\n",
      "('Epoch:', '0006', 'cost=', '0.059655152')\n",
      "('Epoch:', '0007', 'cost=', '0.058414623')\n",
      "('Epoch:', '0008', 'cost=', '0.057220981')\n",
      "('Epoch:', '0009', 'cost=', '0.059290040')\n",
      "('Epoch:', '0010', 'cost=', '0.058355708')\n",
      "('Epoch:', '0011', 'cost=', '0.057791647')\n",
      "('Epoch:', '0012', 'cost=', '0.059518896')\n",
      "('Epoch:', '0013', 'cost=', '0.057219192')\n",
      "('Epoch:', '0014', 'cost=', '0.057383072')\n",
      "('Epoch:', '0015', 'cost=', '0.058700684')\n",
      "('Epoch:', '0016', 'cost=', '0.056816377')\n",
      "('Epoch:', '0017', 'cost=', '0.059211034')\n",
      "('Epoch:', '0018', 'cost=', '0.058802530')\n",
      "('Epoch:', '0019', 'cost=', '0.059473068')\n",
      "('Epoch:', '0020', 'cost=', '0.058451992')\n",
      "('Epoch:', '0021', 'cost=', '0.056936994')\n",
      "('Epoch:', '0022', 'cost=', '0.057445992')\n",
      "('Epoch:', '0023', 'cost=', '0.055954468')\n",
      "('Epoch:', '0024', 'cost=', '0.056835160')\n",
      "('Epoch:', '0025', 'cost=', '0.055944890')\n",
      "('Epoch:', '0026', 'cost=', '0.055671819')\n",
      "('Epoch:', '0027', 'cost=', '0.056752842')\n",
      "('Epoch:', '0028', 'cost=', '0.055204917')\n",
      "('Epoch:', '0029', 'cost=', '0.055024449')\n",
      "('Epoch:', '0030', 'cost=', '0.056719828')\n",
      "('Epoch:', '0031', 'cost=', '0.054443799')\n",
      "('Epoch:', '0032', 'cost=', '0.055930045')\n",
      "('Epoch:', '0033', 'cost=', '0.055178117')\n",
      "('Epoch:', '0034', 'cost=', '0.055649668')\n",
      "('Epoch:', '0035', 'cost=', '0.054139044')\n",
      "('Epoch:', '0036', 'cost=', '0.054397095')\n",
      "('Epoch:', '0037', 'cost=', '0.055328306')\n",
      "('Epoch:', '0038', 'cost=', '0.055230141')\n",
      "('Epoch:', '0039', 'cost=', '0.055207394')\n",
      "('Epoch:', '0040', 'cost=', '0.054186761')\n",
      "('Epoch:', '0041', 'cost=', '0.055699091')\n",
      "('Epoch:', '0042', 'cost=', '0.053125523')\n",
      "('Epoch:', '0043', 'cost=', '0.053726494')\n",
      "('Epoch:', '0044', 'cost=', '0.052458715')\n",
      "('Epoch:', '0045', 'cost=', '0.053743400')\n",
      "('Epoch:', '0046', 'cost=', '0.053821910')\n",
      "('Epoch:', '0047', 'cost=', '0.056221824')\n",
      "('Epoch:', '0048', 'cost=', '0.052928936')\n",
      "('Epoch:', '0049', 'cost=', '0.052576523')\n",
      "('Epoch:', '0050', 'cost=', '0.054031059')\n",
      "('Epoch:', '0051', 'cost=', '0.052710075')\n",
      "('Epoch:', '0052', 'cost=', '0.051583767')\n",
      "('Epoch:', '0053', 'cost=', '0.052896436')\n",
      "('Epoch:', '0054', 'cost=', '0.053056680')\n",
      "('Epoch:', '0055', 'cost=', '0.054826844')\n",
      "('Epoch:', '0056', 'cost=', '0.051504310')\n",
      "('Epoch:', '0057', 'cost=', '0.051453501')\n",
      "('Epoch:', '0058', 'cost=', '0.055221450')\n",
      "('Epoch:', '0059', 'cost=', '0.054934550')\n",
      "('Epoch:', '0060', 'cost=', '0.052545987')\n",
      "('Epoch:', '0061', 'cost=', '0.055276647')\n",
      "('Epoch:', '0062', 'cost=', '0.055440493')\n",
      "('Epoch:', '0063', 'cost=', '0.052477021')\n",
      "('Epoch:', '0064', 'cost=', '0.054926362')\n",
      "('Epoch:', '0065', 'cost=', '0.052942552')\n",
      "('Epoch:', '0066', 'cost=', '0.054154940')\n",
      "('Epoch:', '0067', 'cost=', '0.051268868')\n",
      "('Epoch:', '0068', 'cost=', '0.051192980')\n",
      "('Epoch:', '0069', 'cost=', '0.051902074')\n",
      "('Epoch:', '0070', 'cost=', '0.050617963')\n",
      "('Epoch:', '0071', 'cost=', '0.053890906')\n",
      "('Epoch:', '0072', 'cost=', '0.051341455')\n",
      "('Epoch:', '0073', 'cost=', '0.050807592')\n",
      "('Epoch:', '0074', 'cost=', '0.052909702')\n",
      "('Epoch:', '0075', 'cost=', '0.052252516')\n",
      "('Epoch:', '0076', 'cost=', '0.049093068')\n",
      "('Epoch:', '0077', 'cost=', '0.051484615')\n",
      "('Epoch:', '0078', 'cost=', '0.052668773')\n",
      "('Epoch:', '0079', 'cost=', '0.053274468')\n",
      "('Epoch:', '0080', 'cost=', '0.050602566')\n",
      "('Epoch:', '0081', 'cost=', '0.051873226')\n",
      "('Epoch:', '0082', 'cost=', '0.051677462')\n",
      "('Epoch:', '0083', 'cost=', '0.052561667')\n",
      "('Epoch:', '0084', 'cost=', '0.052035034')\n",
      "('Epoch:', '0085', 'cost=', '0.053137828')\n",
      "('Epoch:', '0086', 'cost=', '0.052233316')\n",
      "('Epoch:', '0087', 'cost=', '0.053057164')\n",
      "('Epoch:', '0088', 'cost=', '0.052244984')\n",
      "('Epoch:', '0089', 'cost=', '0.052977186')\n",
      "('Epoch:', '0090', 'cost=', '0.051539153')\n",
      "('Epoch:', '0091', 'cost=', '0.051431946')\n",
      "('Epoch:', '0092', 'cost=', '0.051491249')\n",
      "('Epoch:', '0093', 'cost=', '0.052134525')\n",
      "('Epoch:', '0094', 'cost=', '0.051347163')\n",
      "('Epoch:', '0095', 'cost=', '0.052734599')\n",
      "('Epoch:', '0096', 'cost=', '0.050137959')\n",
      "('Epoch:', '0097', 'cost=', '0.052729513')\n",
      "('Epoch:', '0098', 'cost=', '0.049762152')\n",
      "('Epoch:', '0099', 'cost=', '0.051771652')\n",
      "('Epoch:', '0100', 'cost=', '0.049600590')\n",
      "Optimization Finished!\n"
     ]
    },
    {
     "data": {
      "image/png": "[encoded data removed]",
      "text/plain": [
       "<matplotlib.figure.Figure at 0x7fbc87677710>"
      ]
     },
     "metadata": {},
     "output_type": "display_data"
    }
   ],
   "source": [
    "training_epochs = 100 \n",
    "# 首先计算总批数，保证每次循环训练集中的每个样本都参与训练，不同于批量训练  \n",
    "total_batch = int(mnist.train.num_examples/batch_size) #总批数  \n",
    "for epoch in range(training_epochs):  \n",
    "    for i in range(total_batch):  \n",
    "        batch_xs, batch_ys = mnist.train.next_batch(batch_size)  # max(x) = 1, min(x) = 0  \n",
    "        # Run optimization op (backprop) and cost op (to get loss value)  \n",
    "        _, c = sess.run([optimizer, cost], feed_dict={X: batch_xs})  \n",
    "    if epoch % display_step == 0:  \n",
    "        print(\"Epoch:\", '%04d' % (epoch+1), \"cost=\", \"{:.9f}\".format(c))  \n",
    "print(\"Optimization Finished!\")  \n",
    "\n",
    "encode_decode = sess.run(  \n",
    "    y_pred, feed_dict={X: mnist.test.images[:examples_to_show]})  \n",
    "f, a = plt.subplots(2, 10, figsize=(10, 2))  \n",
    "for i in range(examples_to_show):  \n",
    "    a[0][i].imshow(np.reshape(mnist.test.images[i], (28, 28)))  \n",
    "    a[1][i].imshow(np.reshape(encode_decode[i], (28, 28)))  \n",
    "plt.show()  "
   ]
  },
  {
   "cell_type": "code",
   "execution_count": 27,
   "metadata": {},
   "outputs": [
    {
     "data": {
      "text/plain": [
       "(256, 784)"
      ]
     },
     "execution_count": 27,
     "metadata": {},
     "output_type": "execute_result"
    }
   ],
   "source": [
    " mnist.train.next_batch(batch_size)[0].shape\n",
    "    "
   ]
  },
  {
   "cell_type": "code",
   "execution_count": 16,
   "metadata": {},
   "outputs": [
    {
     "data": {
      "image/png": "[encoded data removed]",
      "text/plain": [
       "<matplotlib.figure.Figure at 0x7fbc83e77790>"
      ]
     },
     "metadata": {},
     "output_type": "display_data"
    }
   ],
   "source": [
    "# tf.initialize_all_variables() no long valid from  \n",
    "# 2017-03-02 if using tensorflow >= 0.12  \n",
    "# if int((tf.__version__).split('.')[1]) < 12 and int((tf.__version__).split('.')[0]) < 1:  \n",
    "#     init = tf.initialize_all_variables()  \n",
    "# else:  \n",
    "#     init = tf.global_variables_initializer()  \n",
    "# sess.run(init)  \n",
    "# 首先计算总批数，保证每次循环训练集中的每个样本都参与训练，不同于批量训练  \n",
    "#     total_batch = int(mnist.train.num_examples/batch_size) #总批数  \n",
    "#     for epoch in range(training_epochs):  \n",
    "#         for i in range(total_batch):  \n",
    "#             batch_xs, batch_ys = mnist.train.next_batch(batch_size)  # max(x) = 1, min(x) = 0  \n",
    "#             # Run optimization op (backprop) and cost op (to get loss value)  \n",
    "#             _, c = sess.run([optimizer, cost], feed_dict={X: batch_xs})  \n",
    "#         if epoch % display_step == 0:  \n",
    "#             print(\"Epoch:\", '%04d' % (epoch+1), \"cost=\", \"{:.9f}\".format(c))  \n",
    "#     print(\"Optimization Finished!\")  \n",
    "\n",
    "encode_decode = sess.run(  \n",
    "    y_pred, feed_dict={X: mnist.test.images[:examples_to_show]})  \n",
    "f, a = plt.subplots(2, 10, figsize=(10, 2))  \n",
    "for i in range(examples_to_show):  \n",
    "    a[0][i].imshow(np.reshape(mnist.test.images[i], (28, 28)))  \n",
    "    a[1][i].imshow(np.reshape(encode_decode[i], (28, 28)))  \n",
    "plt.show()  "
   ]
  },
  {
   "cell_type": "code",
   "execution_count": 17,
   "metadata": {},
   "outputs": [
    {
     "data": {
      "text/plain": [
       "<tensorflow.contrib.learn.python.learn.datasets.mnist.DataSet at 0x7fbd0cc85390>"
      ]
     },
     "execution_count": 17,
     "metadata": {},
     "output_type": "execute_result"
    }
   ],
   "source": [
    "mnist.train"
   ]
  },
  {
   "cell_type": "code",
   "execution_count": null,
   "metadata": {
    "collapsed": true
   },
   "outputs": [],
   "source": []
  }
 ],
 "metadata": {
  "kernelspec": {
   "display_name": "Python 2",
   "language": "python",
   "name": "python2"
  },
  "language_info": {
   "codemirror_mode": {
    "name": "ipython",
    "version": 2
   },
   "file_extension": ".py",
   "mimetype": "text/x-python",
   "name": "python",
   "nbconvert_exporter": "python",
   "pygments_lexer": "ipython2",
   "version": "2.7.6"
  }
 },
 "nbformat": 4,
 "nbformat_minor": 2
}
